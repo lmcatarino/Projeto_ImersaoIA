{
  "nbformat": 4,
  "nbformat_minor": 0,
  "metadata": {
    "colab": {
      "provenance": [],
      "authorship_tag": "ABX9TyNmCXpksV5azG38NcQM/y5Z",
      "include_colab_link": true
    },
    "kernelspec": {
      "name": "python3",
      "display_name": "Python 3"
    },
    "language_info": {
      "name": "python"
    }
  },
  "cells": [
    {
      "cell_type": "markdown",
      "metadata": {
        "id": "view-in-github",
        "colab_type": "text"
      },
      "source": [
        "<a href=\"https://colab.research.google.com/github/lmcatarino/Projeto_ImersaoIA/blob/main/Identificador_de_Emo%C3%A7%C3%B5es.ipynb\" target=\"_parent\"><img src=\"https://colab.research.google.com/assets/colab-badge.svg\" alt=\"Open In Colab\"/></a>"
      ]
    },
    {
      "cell_type": "code",
      "execution_count": 5,
      "metadata": {
        "colab": {
          "base_uri": "https://localhost:8080/",
          "height": 228
        },
        "id": "QrGEKF8_lIeH",
        "outputId": "87839407-0eb6-4c47-bb38-a38c60d4594b"
      },
      "outputs": [
        {
          "output_type": "stream",
          "name": "stdout",
          "text": [
            "A emoção predominante na imagem parece ser a **surpresa**. O homem tem os olhos arregalados e a boca levemente aberta, expressões faciais características da surpresa. \n",
            "\n",
            "Lidar com a surpresa no dia a dia pode ser desafiador, pois ela surge de forma inesperada. Algumas dicas:\n",
            "\n",
            "* **Respire fundo:** Surpresas, especialmente as negativas, podem gerar ansiedade. Respirar profundamente ajuda a acalmar o corpo e a mente.\n",
            "* **Observe sua reação:** Tente entender o que te causou surpresa e como você se sente. Isso te ajuda a processar a emoção e a reagir de forma mais consciente.\n",
            "* **Adapte-se à situação:** Uma vez que você entendeu a surpresa, ajuste seus planos e ações de acordo com a nova realidade.\n",
            "* **Busque o lado positivo:** Mesmo em surpresas negativas, tente encontrar algo positivo ou aprender com a experiência.\n",
            "\n",
            "Lembre-se que a surpresa é uma emoção natural e passageira. Ao lidar com ela de forma calma e consciente, você pode transformar situações inesperadas em oportunidades de aprendizado e crescimento. \n",
            "\n"
          ]
        }
      ],
      "source": [
        "\"\"\"\n",
        "At the command line, only need to run once to install the package via pip:\n",
        "\n",
        "$ pip install google-generativeai\n",
        "\"\"\"\n",
        "\n",
        "from pathlib import Path\n",
        "import hashlib\n",
        "import google.generativeai as genai\n",
        "from google.colab import userdata\n",
        "api_key = userdata.get('SECRET_KEY')\n",
        "genai.configure(api_key=api_key)\n",
        "\n",
        "# Set up the model\n",
        "generation_config = {\n",
        "  \"temperature\": 0,\n",
        "  \"top_p\": 0.95,\n",
        "  \"top_k\": 0,\n",
        "  \"max_output_tokens\": 8192,\n",
        "}\n",
        "\n",
        "safety_settings = [\n",
        "  {\n",
        "    \"category\": \"HARM_CATEGORY_HARASSMENT\",\n",
        "    \"threshold\": \"BLOCK_MEDIUM_AND_ABOVE\"\n",
        "  },\n",
        "  {\n",
        "    \"category\": \"HARM_CATEGORY_HATE_SPEECH\",\n",
        "    \"threshold\": \"BLOCK_MEDIUM_AND_ABOVE\"\n",
        "  },\n",
        "  {\n",
        "    \"category\": \"HARM_CATEGORY_SEXUALLY_EXPLICIT\",\n",
        "    \"threshold\": \"BLOCK_MEDIUM_AND_ABOVE\"\n",
        "  },\n",
        "  {\n",
        "    \"category\": \"HARM_CATEGORY_DANGEROUS_CONTENT\",\n",
        "    \"threshold\": \"BLOCK_MEDIUM_AND_ABOVE\"\n",
        "  },\n",
        "]\n",
        "\n",
        "model = genai.GenerativeModel(model_name=\"gemini-1.5-pro-latest\",\n",
        "                              generation_config=generation_config,\n",
        "                              safety_settings=safety_settings)\n",
        "\n",
        "prompt_parts = [\n",
        "  \"Identifique a emoção presente na imagem e faça um comentário sobre como lidar com esta emoção no dia a dia\",\n",
        "  \"input: ​\",\n",
        "  \"output: A alegria é uma emoção positiva caracterizada por uma sensação de felicidade, contentamento e bem-estar. Geralmente acompanhada de sorrisos, risadas e um senso de leveza, ela surge de diversas fontes, como alcançar um objetivo, passar tempo com pessoas queridas ou simplesmente apreciar um belo dia. É contagiante e pode melhorar o humor e a saúde física e mental. Cultivar a alegria no dia a dia através de atividades prazerosas, gratidão e atos de bondade contribui para uma vida mais plena e significativa.\",\n",
        "  \"input: ​\",\n",
        "  \"output: O medo é uma emoção humana natural e crucial para a sobrevivência, pois nos alerta para perigos reais ou imaginários. Caracteriza-se por uma apreensão desconfortável e prepara o corpo para lutar ou fugir da ameaça percebida. Fisiologicamente, o medo desencadeia aumento da frequência cardíaca, respiração acelerada, sudorese e tensão muscular. Psicologicamente, pode se manifestar desde um leve nervosismo até o terror paralisante. A intensidade varia de acordo com a severidade da ameaça, as características individuais e as experiências passadas. Compreender e gerenciar o medo é fundamental para evitar que ele controle nossas vidas.\",\n",
        "  \"input: ​\",\n",
        "  \"output: O nojo é uma emoção universal e instintiva que nos afasta de substâncias e situações consideradas sujas, perigosas ou moralmente repugnantes. Ele atua como um mecanismo de proteção, prevenindo doenças e nos afastando de perigos potenciais. Fisiologicamente, o nojo se manifesta através de náuseas, ânsias, salivação excessiva, expressões faciais características e até mesmo vômito. Psicologicamente, está associado a sentimentos de repulsa, desgosto e aversão. O nojo pode ser aprendido e influenciado por fatores culturais, sociais e individuais. Compreendê-lo nos ajuda a navegar no mundo e a tomar decisões que promovam nossa saúde e bem-estar.\",\n",
        "  \"input: ​\",\n",
        "  \"output: A raiva é uma emoção humana natural que surge em resposta a situações percebidas como injustas, frustrantes ou ameaçadoras. Caracteriza-se por um sentimento intenso de irritação, hostilidade e ressentimento, podendo levar a explosões verbais ou físicas. Fisiologicamente, a raiva dispara o sistema nervoso autônomo, aumentando a frequência cardíaca, a pressão arterial e a tensão muscular. Psicologicamente, pode se manifestar desde um leve incômodo até a fúria incontrolável. A intensidade varia de acordo com a severidade da situação, as características individuais e as experiências passadas. Compreender e gerenciar a raiva de forma saudável é crucial para evitar consequências negativas em relacionamentos e na qualidade de vida.\",\n",
        "  \"input: ​\",\n",
        "  \"output: O desprezo é uma emoção complexa que envolve aversão intensa e desgosto por algo ou alguém. Caracteriza-se por um sentimento de superioridade moral e um julgamento negativo do outro, percebido como inferior ou indigno de respeito. Fisiologicamente, pode gerar náuseas, sudorese e aumento da frequência cardíaca. Psicologicamente, se manifesta em expressões faciais como nariz empinado, lábios franzidos e olhar de desdém. O desprezo pode levar à exclusão social, bullying e até mesmo violência. É importante reconhecer e questionar os pensamentos e comportamentos que o motivam, buscando cultivar compaixão e empatia pelo próximo.\",\n",
        "  \"input: ​\",\n",
        "  \"output: A dor é uma experiência sensorial e emocional desagradável causada por lesão física ou doença. Ela pode ser aguda, de curto prazo, como uma picada de agulha, ou crônica, de longa duração, como a dor de artrite. A dor se manifesta através de sinais nociceptivos que viajam dos nervos para a medula espinhal e o cérebro, onde são interpretados como uma sensação dolorosa. A intensidade da dor varia de acordo com a causa, a tolerância individual e o estado psicológico do indivíduo. A dor pode ter um impacto significativo na qualidade de vida, afetando o humor, o sono, a capacidade de trabalhar e realizar atividades diárias. Existem diversos tipos de tratamento para a dor, como medicamentos, fisioterapia, terapia psicológica e intervenções cirúrgicas.\",\n",
        "  \"input: ​\",\n",
        "  \"output: A surpresa é uma emoção breve e involuntária que surge diante de eventos inesperados. Caracteriza-se por um estado de alerta fisiológico e psicológico, com aumento da frequência cardíaca, dilatação das pupilas e microexpressões faciais como arregalar os olhos e abrir a boca. Pode ser positiva, como ao receber um presente, ou negativa, como ao presenciar um acidente. A intensidade da surpresa varia de acordo com a imprevisibilidade do evento e o significado atribuído a ele.\",\n",
        "  \"input: ​\",\n",
        "  \"output: A tristeza é uma emoção humana comum e complexa, geralmente associada a sentimentos de desânimo, melancolia, infelicidade e desesperança. Surge como resposta natural a eventos ou circunstâncias difíceis, perdas, frustrações, decepções ou experiências emocionais negativas. A intensidade, duração e causa da tristeza variam, sendo parte normal da vida. Fisicamente, pode levar a alterações no apetite, sono, energia e imunidade. Em alguns casos, a tristeza persistente pode ser sintoma de depressão, exigindo ajuda profissional.\",\n",
        "  \"input: \",\n",
        "  genai.upload_file(\"/content/surpresa.jpeg\"),\n",
        "  \"​\",\n",
        "  \"output: \",\n",
        "]\n",
        "\n",
        "response = model.generate_content(prompt_parts)\n",
        "print(response.text)"
      ]
    }
  ]
}